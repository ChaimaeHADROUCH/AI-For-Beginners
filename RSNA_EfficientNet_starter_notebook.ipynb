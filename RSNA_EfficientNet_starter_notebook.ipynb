{
  "metadata": {
    "kernelspec": {
      "language": "python",
      "display_name": "Python 3",
      "name": "python3"
    },
    "language_info": {
      "name": "python",
      "version": "3.10.13",
      "mimetype": "text/x-python",
      "codemirror_mode": {
        "name": "ipython",
        "version": 3
      },
      "pygments_lexer": "ipython3",
      "nbconvert_exporter": "python",
      "file_extension": ".py"
    },
    "kaggle": {
      "accelerator": "gpu",
      "dataSources": [
        {
          "sourceId": 71549,
          "databundleVersionId": 8561470,
          "sourceType": "competition"
        },
        {
          "sourceId": 6158,
          "sourceType": "modelInstanceVersion",
          "modelInstanceId": 4608
        },
        {
          "sourceId": 64765,
          "sourceType": "modelInstanceVersion",
          "isSourceIdPinned": true,
          "modelInstanceId": 54020
        },
        {
          "sourceId": 64795,
          "sourceType": "modelInstanceVersion",
          "isSourceIdPinned": true,
          "modelInstanceId": 54048
        }
      ],
      "dockerImageVersionId": 30733,
      "isInternetEnabled": false,
      "language": "python",
      "sourceType": "notebook",
      "isGpuEnabled": true
    },
    "colab": {
      "name": "RSNA EfficientNet starter notebook",
      "provenance": [],
      "include_colab_link": true
    }
  },
  "nbformat_minor": 0,
  "nbformat": 4,
  "cells": [
    {
      "cell_type": "markdown",
      "metadata": {
        "id": "view-in-github",
        "colab_type": "text"
      },
      "source": [
        "<a href=\"https://colab.research.google.com/github/ChaimaeHADROUCH/AI-For-Beginners/blob/main/RSNA_EfficientNet_starter_notebook.ipynb\" target=\"_parent\"><img src=\"https://colab.research.google.com/assets/colab-badge.svg\" alt=\"Open In Colab\"/></a>"
      ]
    },
    {
      "source": [
        "\n",
        "# IMPORTANT: RUN THIS CELL IN ORDER TO IMPORT YOUR KAGGLE DATA SOURCES\n",
        "# TO THE CORRECT LOCATION (/kaggle/input) IN YOUR NOTEBOOK,\n",
        "# THEN FEEL FREE TO DELETE THIS CELL.\n",
        "# NOTE: THIS NOTEBOOK ENVIRONMENT DIFFERS FROM KAGGLE'S PYTHON\n",
        "# ENVIRONMENT SO THERE MAY BE MISSING LIBRARIES USED BY YOUR\n",
        "# NOTEBOOK.\n",
        "\n",
        "import os\n",
        "import sys\n",
        "from tempfile import NamedTemporaryFile\n",
        "from urllib.request import urlopen\n",
        "from urllib.parse import unquote, urlparse\n",
        "from urllib.error import HTTPError\n",
        "from zipfile import ZipFile\n",
        "import tarfile\n",
        "import shutil\n",
        "\n",
        "CHUNK_SIZE = 40960\n",
        "DATA_SOURCE_MAPPING = 'rsna-2024-lumbar-spine-degenerative-classification:https%3A%2F%2Fstorage.googleapis.com%2Fkaggle-competitions-data%2Fkaggle-v2%2F71549%2F8561470%2Fbundle%2Farchive.zip%3FX-Goog-Algorithm%3DGOOG4-RSA-SHA256%26X-Goog-Credential%3Dgcp-kaggle-com%2540kaggle-161607.iam.gserviceaccount.com%252F20240930%252Fauto%252Fstorage%252Fgoog4_request%26X-Goog-Date%3D20240930T081742Z%26X-Goog-Expires%3D259200%26X-Goog-SignedHeaders%3Dhost%26X-Goog-Signature%3D3dc9fe75271ff33794b014e3d45d8e9e98b6b7d670cd0cf822df6b4361ff349c7465569fd7ad673f1d3a41b5485090f0fceb830a66b0e649de1b730fa4620968680a5dcef022ec68e21df522b55b26c24aa65c9525f6bd62c0600ad4dc034d79213a22ad55bff9c0e1f79453a8fe6503e761a544cbfe9d8efe9d328fc1d5d0f3f51e740eca783ff9d77f67e60c59e753fa1d3cf420cd3c1d556ef167b92ea3d1d086a35afb111370e6f1eb26d695a5adb835d59fa306f06c1c91f69f7fa9cb0da04e14cd802b378e417699156ae9875a56470dc816c15022ded2fe4012c2aaafe65de8eecb652feb6288669e5abd43593eae1198e59aa481e0b655c82cb093b0,efficientnetv2/keras/efficientnetv2_s_imagenet_classifier/2:https%3A%2F%2Fstorage.googleapis.com%2Fkaggle-models-data%2F4608%2F6158%2Fbundle%2Farchive.tar.gz%3FX-Goog-Algorithm%3DGOOG4-RSA-SHA256%26X-Goog-Credential%3Dgcp-kaggle-com%2540kaggle-161607.iam.gserviceaccount.com%252F20240930%252Fauto%252Fstorage%252Fgoog4_request%26X-Goog-Date%3D20240930T081742Z%26X-Goog-Expires%3D259200%26X-Goog-SignedHeaders%3Dhost%26X-Goog-Signature%3Da9ac52b3b225e7bc5ad0d3b907528362e82e62e6f60d2f345dc35f04eda78f1d45456d72b3d1d68a4a28477ecb6cb99e44b7871403187fda50d54bb70f8aa74755cbdbb067cb593fa2f0ef2b15e4fdc7bb9b80acc99ffb3589599df9e49b1b6d929c3773652a8a692d4010ad6968809dbccad8808819321d34db0d4c2249cc0aa072566c747ead75be206b26838fb9abf9a59a859726ae31a74b68e21f2773f92aa5c1ab8592e1adf24d9c833f89b97c9eaa14e61b837795767d00db038144caaff4280fc681626073ffa4a51602cdbcc48b420182d0f3fbaa67157a498682951a7dbd1508db8af38559b454e1548f010b5bc9fa70d36300ee343b5742cca131,efficientnetv2/pytorch/efficientnetv2s/1:https%3A%2F%2Fstorage.googleapis.com%2Fkaggle-models-data%2F54020%2F64765%2Fbundle%2Farchive.tar.gz%3FX-Goog-Algorithm%3DGOOG4-RSA-SHA256%26X-Goog-Credential%3Dgcp-kaggle-com%2540kaggle-161607.iam.gserviceaccount.com%252F20240930%252Fauto%252Fstorage%252Fgoog4_request%26X-Goog-Date%3D20240930T081742Z%26X-Goog-Expires%3D259200%26X-Goog-SignedHeaders%3Dhost%26X-Goog-Signature%3Dd747057a5e1d6fcfe0207680ec8305386e2f28002ab3f599b299173a55b877a33a9423ba0f0aa3241390ed917f4af5713a9b5ae2e01c60db9351174509b6d815909984c497916fa0303b79f9bfb167857c158096eea2beb57f0b05111a5d002b0c7d65594bf596b3103f466b88bbe96539e796aeafe36600e1e79a798273de87404333163503e9f1c93f64dd2015b369d5c68a518f0dbda7ca176f04cdd61d0fe8a7ac0f247b60a266b99ad407a0af959f2270ffa44844c10927352ff43d80e668ee2186f6e75814e9f8172954ca85f67222ade65e1a67eabfe264c818f68193da6717c34047552dbfa33f52b53ed3172b233cbc011f06e495af2a01ed91d784,efficientnetv2/keras/efficientnetv2s-notop/1:https%3A%2F%2Fstorage.googleapis.com%2Fkaggle-models-data%2F54048%2F64795%2Fbundle%2Farchive.tar.gz%3FX-Goog-Algorithm%3DGOOG4-RSA-SHA256%26X-Goog-Credential%3Dgcp-kaggle-com%2540kaggle-161607.iam.gserviceaccount.com%252F20240930%252Fauto%252Fstorage%252Fgoog4_request%26X-Goog-Date%3D20240930T081742Z%26X-Goog-Expires%3D259200%26X-Goog-SignedHeaders%3Dhost%26X-Goog-Signature%3D0fc035208f8ceaf0d5b916abc34f3537258809a34205fb6cdbab5f37f348bf69123b27d1da49831ffe4c1b724db4e687ee38ce047a34c3e9ac3f29390c1335110b022fb2b1fdccdab80da011db32f7e260d1be6df50641f0fb1d855f64b0543f81b0fc2bf2304be5934355d3a49dc4b626dde9d10ebaed6c5e00a0a19718ea5a19e19891c59b65706246a49392126d81c5cc1e2df268e7b5dfbeba35baf8a606b0be759baf1b29de52b274ab9bdc845349b3fc0a527037ba7770983a9d564d207f14c6912588de9fba42fa1ad957b33ac2d26cd7cc620af98645b8fd90bc4f84b2f53659936969e5ad33d3960c9231fd70ddf306b8770aef2b812b04037bbc1e'\n",
        "\n",
        "KAGGLE_INPUT_PATH='/kaggle/input'\n",
        "KAGGLE_WORKING_PATH='/kaggle/working'\n",
        "KAGGLE_SYMLINK='kaggle'\n",
        "\n",
        "!umount /kaggle/input/ 2> /dev/null\n",
        "shutil.rmtree('/kaggle/input', ignore_errors=True)\n",
        "os.makedirs(KAGGLE_INPUT_PATH, 0o777, exist_ok=True)\n",
        "os.makedirs(KAGGLE_WORKING_PATH, 0o777, exist_ok=True)\n",
        "\n",
        "try:\n",
        "  os.symlink(KAGGLE_INPUT_PATH, os.path.join(\"..\", 'input'), target_is_directory=True)\n",
        "except FileExistsError:\n",
        "  pass\n",
        "try:\n",
        "  os.symlink(KAGGLE_WORKING_PATH, os.path.join(\"..\", 'working'), target_is_directory=True)\n",
        "except FileExistsError:\n",
        "  pass\n",
        "\n",
        "for data_source_mapping in DATA_SOURCE_MAPPING.split(','):\n",
        "    directory, download_url_encoded = data_source_mapping.split(':')\n",
        "    download_url = unquote(download_url_encoded)\n",
        "    filename = urlparse(download_url).path\n",
        "    destination_path = os.path.join(KAGGLE_INPUT_PATH, directory)\n",
        "    try:\n",
        "        with urlopen(download_url) as fileres, NamedTemporaryFile() as tfile:\n",
        "            total_length = fileres.headers['content-length']\n",
        "            print(f'Downloading {directory}, {total_length} bytes compressed')\n",
        "            dl = 0\n",
        "            data = fileres.read(CHUNK_SIZE)\n",
        "            while len(data) > 0:\n",
        "                dl += len(data)\n",
        "                tfile.write(data)\n",
        "                done = int(50 * dl / int(total_length))\n",
        "                sys.stdout.write(f\"\\r[{'=' * done}{' ' * (50-done)}] {dl} bytes downloaded\")\n",
        "                sys.stdout.flush()\n",
        "                data = fileres.read(CHUNK_SIZE)\n",
        "            if filename.endswith('.zip'):\n",
        "              with ZipFile(tfile) as zfile:\n",
        "                zfile.extractall(destination_path)\n",
        "            else:\n",
        "              with tarfile.open(tfile.name) as tarfile:\n",
        "                tarfile.extractall(destination_path)\n",
        "            print(f'\\nDownloaded and uncompressed: {directory}')\n",
        "    except HTTPError as e:\n",
        "        print(f'Failed to load (likely expired) {download_url} to path {destination_path}')\n",
        "        continue\n",
        "    except OSError as e:\n",
        "        print(f'Failed to load {download_url} to path {destination_path}')\n",
        "        continue\n",
        "\n",
        "print('Data source import complete.')\n"
      ],
      "metadata": {
        "id": "QWhv8snZGaxV"
      },
      "cell_type": "code",
      "outputs": [],
      "execution_count": null
    },
    {
      "cell_type": "markdown",
      "source": [
        "# RSNA 2024 Lumbar Spine Degenerative Classification"
      ],
      "metadata": {
        "id": "3xwUQVvXGaxX"
      }
    },
    {
      "cell_type": "markdown",
      "source": [
        "## Starter Notebook for Pytorch and Deep learning techniques\n",
        "\n",
        "Using ResNET"
      ],
      "metadata": {
        "id": "GxICHqJsGaxY"
      }
    },
    {
      "cell_type": "markdown",
      "source": [
        "What does this notebook contains?\n",
        "\n",
        "* Data organized in an understandable and easy to use way\n",
        "* A pretrained ResNET for inference\n",
        "\n",
        "I have tried creating a notebook where you can just plug your deep learning models and everything else is sorted."
      ],
      "metadata": {
        "id": "RyEEt8MlGaxY"
      }
    },
    {
      "cell_type": "code",
      "source": [
        "import seaborn as sns\n",
        "\n",
        "import matplotlib.pyplot as plt\n",
        "import os\n",
        "import time\n",
        "import numpy as np\n",
        "import glob\n",
        "import json\n",
        "import collections\n",
        "import torch\n",
        "import torch.nn as nn\n",
        "\n",
        "import pydicom as dicom\n",
        "import matplotlib.patches as patches\n",
        "\n",
        "from matplotlib import animation, rc\n",
        "import pandas as pd\n",
        "\n",
        "import pydicom as dicom # dicom\n",
        "import pydicom\n",
        "from pydicom.pixel_data_handlers.util import apply_voi_lut"
      ],
      "metadata": {
        "execution": {
          "iopub.status.busy": "2024-06-13T05:04:54.672182Z",
          "iopub.execute_input": "2024-06-13T05:04:54.672938Z",
          "iopub.status.idle": "2024-06-13T05:04:56.037919Z",
          "shell.execute_reply.started": "2024-06-13T05:04:54.672902Z",
          "shell.execute_reply": "2024-06-13T05:04:56.036734Z"
        },
        "trusted": true,
        "id": "BcelGRzYGaxY"
      },
      "execution_count": null,
      "outputs": []
    },
    {
      "cell_type": "code",
      "source": [
        "# read data\n",
        "train_path = '/kaggle/input/rsna-2024-lumbar-spine-degenerative-classification/'\n",
        "\n",
        "train  = pd.read_csv(train_path + 'train.csv')\n",
        "label = pd.read_csv(train_path + 'train_label_coordinates.csv')\n",
        "train_desc  = pd.read_csv(train_path + 'train_series_descriptions.csv')\n",
        "test_desc   = pd.read_csv(train_path + 'test_series_descriptions.csv')\n",
        "sub         = pd.read_csv(train_path + 'sample_submission.csv')"
      ],
      "metadata": {
        "execution": {
          "iopub.status.busy": "2024-06-13T05:04:56.040044Z",
          "iopub.execute_input": "2024-06-13T05:04:56.040502Z",
          "iopub.status.idle": "2024-06-13T05:04:56.217903Z",
          "shell.execute_reply.started": "2024-06-13T05:04:56.040472Z",
          "shell.execute_reply": "2024-06-13T05:04:56.216784Z"
        },
        "trusted": true,
        "id": "k83L8_BzGaxZ"
      },
      "execution_count": null,
      "outputs": []
    },
    {
      "cell_type": "code",
      "source": [
        "test_desc.head(5)"
      ],
      "metadata": {
        "execution": {
          "iopub.status.busy": "2024-06-13T05:04:56.219152Z",
          "iopub.execute_input": "2024-06-13T05:04:56.219449Z",
          "iopub.status.idle": "2024-06-13T05:04:56.24716Z",
          "shell.execute_reply.started": "2024-06-13T05:04:56.219423Z",
          "shell.execute_reply": "2024-06-13T05:04:56.245942Z"
        },
        "trusted": true,
        "id": "4Kq0eJB2GaxZ"
      },
      "execution_count": null,
      "outputs": []
    },
    {
      "cell_type": "code",
      "source": [
        "train.head(5)"
      ],
      "metadata": {
        "execution": {
          "iopub.status.busy": "2024-06-13T05:04:56.24871Z",
          "iopub.execute_input": "2024-06-13T05:04:56.249274Z",
          "iopub.status.idle": "2024-06-13T05:04:56.278655Z",
          "shell.execute_reply.started": "2024-06-13T05:04:56.249235Z",
          "shell.execute_reply": "2024-06-13T05:04:56.277437Z"
        },
        "trusted": true,
        "id": "pVdGrA44GaxZ"
      },
      "execution_count": null,
      "outputs": []
    },
    {
      "cell_type": "code",
      "source": [
        "train_desc.head(5)"
      ],
      "metadata": {
        "execution": {
          "iopub.status.busy": "2024-06-13T05:04:56.282622Z",
          "iopub.execute_input": "2024-06-13T05:04:56.28296Z",
          "iopub.status.idle": "2024-06-13T05:04:56.294245Z",
          "shell.execute_reply.started": "2024-06-13T05:04:56.282933Z",
          "shell.execute_reply": "2024-06-13T05:04:56.293137Z"
        },
        "trusted": true,
        "id": "fDfqCzt4GaxZ"
      },
      "execution_count": null,
      "outputs": []
    },
    {
      "cell_type": "code",
      "source": [
        "# Function to generate image paths based on directory structure\n",
        "def generate_image_paths(df, data_dir):\n",
        "    image_paths = []\n",
        "    for study_id, series_id in zip(df['study_id'], df['series_id']):\n",
        "        study_dir = os.path.join(data_dir, str(study_id))\n",
        "        series_dir = os.path.join(study_dir, str(series_id))\n",
        "        images = os.listdir(series_dir)\n",
        "        image_paths.extend([os.path.join(series_dir, img) for img in images])\n",
        "    return image_paths\n",
        "\n",
        "# Generate image paths for train and test data\n",
        "train_image_paths = generate_image_paths(train_desc, f'{train_path}/train_images')\n",
        "test_image_paths = generate_image_paths(test_desc, f'{train_path}/test_images')"
      ],
      "metadata": {
        "execution": {
          "iopub.status.busy": "2024-06-13T05:04:56.295573Z",
          "iopub.execute_input": "2024-06-13T05:04:56.295965Z",
          "iopub.status.idle": "2024-06-13T05:05:32.017898Z",
          "shell.execute_reply.started": "2024-06-13T05:04:56.295928Z",
          "shell.execute_reply": "2024-06-13T05:05:32.01695Z"
        },
        "trusted": true,
        "id": "xdYRqcQUGaxa"
      },
      "execution_count": null,
      "outputs": []
    },
    {
      "cell_type": "code",
      "source": [
        "len(train_desc)"
      ],
      "metadata": {
        "execution": {
          "iopub.status.busy": "2024-06-13T05:05:32.019239Z",
          "iopub.execute_input": "2024-06-13T05:05:32.019669Z",
          "iopub.status.idle": "2024-06-13T05:05:32.026625Z",
          "shell.execute_reply.started": "2024-06-13T05:05:32.01963Z",
          "shell.execute_reply": "2024-06-13T05:05:32.02546Z"
        },
        "trusted": true,
        "id": "T40NaD0pGaxa"
      },
      "execution_count": null,
      "outputs": []
    },
    {
      "cell_type": "code",
      "source": [
        "len(train_image_paths)"
      ],
      "metadata": {
        "execution": {
          "iopub.status.busy": "2024-06-13T05:05:32.02786Z",
          "iopub.execute_input": "2024-06-13T05:05:32.028156Z",
          "iopub.status.idle": "2024-06-13T05:05:32.038744Z",
          "shell.execute_reply.started": "2024-06-13T05:05:32.028132Z",
          "shell.execute_reply": "2024-06-13T05:05:32.03771Z"
        },
        "trusted": true,
        "id": "z_ltog6xGaxa"
      },
      "execution_count": null,
      "outputs": []
    },
    {
      "cell_type": "code",
      "source": [
        "import pydicom\n",
        "import matplotlib.pyplot as plt\n",
        "\n",
        "# Function to open and display DICOM images\n",
        "def display_dicom_images(image_paths):\n",
        "    plt.figure(figsize=(15, 5))  # Adjust figure size if needed\n",
        "    for i, path in enumerate(image_paths[:3]):\n",
        "        ds = pydicom.dcmread(path)\n",
        "        plt.subplot(1, 3, i+1)\n",
        "        plt.imshow(ds.pixel_array, cmap=plt.cm.bone)\n",
        "        plt.title(f\"Image {i+1}\")\n",
        "        plt.axis('off')\n",
        "    plt.show()\n",
        "\n",
        "# Display the first three DICOM images\n",
        "display_dicom_images(train_image_paths)"
      ],
      "metadata": {
        "execution": {
          "iopub.status.busy": "2024-06-13T05:05:32.040079Z",
          "iopub.execute_input": "2024-06-13T05:05:32.040469Z",
          "iopub.status.idle": "2024-06-13T05:05:32.779927Z",
          "shell.execute_reply.started": "2024-06-13T05:05:32.040441Z",
          "shell.execute_reply": "2024-06-13T05:05:32.778677Z"
        },
        "trusted": true,
        "id": "FYZrB6I3Gaxa"
      },
      "execution_count": null,
      "outputs": []
    },
    {
      "cell_type": "code",
      "source": [
        "import os\n",
        "import pydicom\n",
        "import matplotlib.pyplot as plt\n",
        "import pandas as pd\n",
        "\n",
        "# Function to open and display DICOM images along with coordinates\n",
        "def display_dicom_with_coordinates(image_paths, label_df):\n",
        "    fig, axs = plt.subplots(1, len(image_paths), figsize=(18, 6))\n",
        "\n",
        "    for idx, path in enumerate(image_paths):  # Display images\n",
        "        study_id = int(path.split('/')[-3])\n",
        "        series_id = int(path.split('/')[-2])\n",
        "\n",
        "        # Filter label coordinates for the current study and series\n",
        "        filtered_labels = label_df[(label_df['study_id'] == study_id) & (label_df['series_id'] == series_id)]\n",
        "\n",
        "        # Read DICOM image\n",
        "        ds = pydicom.dcmread(path)\n",
        "\n",
        "        # Plot DICOM image\n",
        "        axs[idx].imshow(ds.pixel_array, cmap='gray')\n",
        "        axs[idx].set_title(f\"Study ID: {study_id}, Series ID: {series_id}\")\n",
        "        axs[idx].axis('off')\n",
        "\n",
        "        # Plot coordinates\n",
        "        for _, row in filtered_labels.iterrows():\n",
        "            axs[idx].plot(row['x'], row['y'], 'ro', markersize=5)\n",
        "\n",
        "    plt.tight_layout()\n",
        "    plt.show()\n",
        "\n",
        "# Load DICOM files from a folder\n",
        "def load_dicom_files(path_to_folder):\n",
        "    files = [os.path.join(path_to_folder, f) for f in os.listdir(path_to_folder) if f.endswith('.dcm')]\n",
        "    files.sort(key=lambda x: int(os.path.splitext(os.path.basename(x))[0].split('-')[-1]))\n",
        "    return files\n",
        "\n",
        "# Display DICOM images with coordinates\n",
        "study_id = \"100206310\"\n",
        "study_folder = f'{train_path}/train_images/{study_id}'\n",
        "\n",
        "image_paths = []\n",
        "for series_folder in os.listdir(study_folder):\n",
        "    series_folder_path = os.path.join(study_folder, series_folder)\n",
        "    dicom_files = load_dicom_files(series_folder_path)\n",
        "    if dicom_files:\n",
        "        image_paths.append(dicom_files[0])  # Add the first image from each series\n",
        "\n",
        "\n",
        "display_dicom_with_coordinates(image_paths, label)"
      ],
      "metadata": {
        "execution": {
          "iopub.status.busy": "2024-06-13T05:05:32.781146Z",
          "iopub.execute_input": "2024-06-13T05:05:32.781469Z",
          "iopub.status.idle": "2024-06-13T05:05:33.696657Z",
          "shell.execute_reply.started": "2024-06-13T05:05:32.781442Z",
          "shell.execute_reply": "2024-06-13T05:05:33.695595Z"
        },
        "trusted": true,
        "id": "7cvpVv2iGaxa"
      },
      "execution_count": null,
      "outputs": []
    },
    {
      "cell_type": "markdown",
      "source": [
        "## Data Preprocessing"
      ],
      "metadata": {
        "id": "uk1gKYnbGaxa"
      }
    },
    {
      "cell_type": "code",
      "source": [
        "# Define function to reshape a single row of the DataFrame\n",
        "def reshape_row(row):\n",
        "    data = {'study_id': [], 'condition': [], 'level': [], 'severity': []}\n",
        "\n",
        "    for column, value in row.items():\n",
        "        if column not in ['study_id', 'series_id', 'instance_number', 'x', 'y', 'series_description']:\n",
        "            parts = column.split('_')\n",
        "            condition = ' '.join([word.capitalize() for word in parts[:-2]])\n",
        "            level = parts[-2].capitalize() + '/' + parts[-1].capitalize()\n",
        "            data['study_id'].append(row['study_id'])\n",
        "            data['condition'].append(condition)\n",
        "            data['level'].append(level)\n",
        "            data['severity'].append(value)\n",
        "\n",
        "    return pd.DataFrame(data)\n",
        "\n",
        "# Reshape the DataFrame for all rows\n",
        "new_train_df = pd.concat([reshape_row(row) for _, row in train.iterrows()], ignore_index=True)\n",
        "\n",
        "# Display the first few rows of the reshaped dataframe\n",
        "new_train_df.head(5)"
      ],
      "metadata": {
        "execution": {
          "iopub.status.busy": "2024-06-13T05:05:33.69806Z",
          "iopub.execute_input": "2024-06-13T05:05:33.698451Z",
          "iopub.status.idle": "2024-06-13T05:05:35.319867Z",
          "shell.execute_reply.started": "2024-06-13T05:05:33.698419Z",
          "shell.execute_reply": "2024-06-13T05:05:35.318639Z"
        },
        "trusted": true,
        "id": "6JDgdla9Gaxa"
      },
      "execution_count": null,
      "outputs": []
    },
    {
      "cell_type": "code",
      "source": [
        "# Print columns in a neat way\n",
        "print(\"\\nColumns in new_train_df:\")\n",
        "print(\",\".join(new_train_df.columns))\n",
        "\n",
        "print(\"\\nColumns in label:\")\n",
        "print(\",\".join(label.columns))\n",
        "\n",
        "print(\"\\nColumns in test_desc:\")\n",
        "print(\",\".join(test_desc.columns))\n",
        "\n",
        "print(\"\\nColumns in sub:\")\n",
        "print(\",\".join(sub.columns))"
      ],
      "metadata": {
        "execution": {
          "iopub.status.busy": "2024-06-13T05:05:35.321189Z",
          "iopub.execute_input": "2024-06-13T05:05:35.321578Z",
          "iopub.status.idle": "2024-06-13T05:05:35.329042Z",
          "shell.execute_reply.started": "2024-06-13T05:05:35.321532Z",
          "shell.execute_reply": "2024-06-13T05:05:35.327744Z"
        },
        "trusted": true,
        "id": "dfcWhSdsGaxa"
      },
      "execution_count": null,
      "outputs": []
    },
    {
      "cell_type": "code",
      "source": [
        "# Merge the dataframes on the common columns\n",
        "merged_df = pd.merge(new_train_df, label, on=['study_id', 'condition', 'level'], how='inner')\n",
        "# Merge the dataframes on the common column 'series_id'\n",
        "final_merged_df = pd.merge(merged_df, train_desc, on='series_id', how='inner')"
      ],
      "metadata": {
        "execution": {
          "iopub.status.busy": "2024-06-13T05:05:35.330988Z",
          "iopub.execute_input": "2024-06-13T05:05:35.331315Z",
          "iopub.status.idle": "2024-06-13T05:05:35.421849Z",
          "shell.execute_reply.started": "2024-06-13T05:05:35.331285Z",
          "shell.execute_reply": "2024-06-13T05:05:35.420649Z"
        },
        "trusted": true,
        "id": "RdgELz3GGaxa"
      },
      "execution_count": null,
      "outputs": []
    },
    {
      "cell_type": "code",
      "source": [
        "# Merge the dataframes on the common column 'series_id'\n",
        "final_merged_df = pd.merge(merged_df, train_desc, on=['series_id','study_id'], how='inner')\n",
        "# Display the first few rows of the final merged dataframe\n",
        "final_merged_df.head(5)"
      ],
      "metadata": {
        "execution": {
          "iopub.status.busy": "2024-06-13T05:05:35.428055Z",
          "iopub.execute_input": "2024-06-13T05:05:35.428652Z",
          "iopub.status.idle": "2024-06-13T05:05:35.460728Z",
          "shell.execute_reply.started": "2024-06-13T05:05:35.428621Z",
          "shell.execute_reply": "2024-06-13T05:05:35.459607Z"
        },
        "trusted": true,
        "id": "y9fDb36GGaxa"
      },
      "execution_count": null,
      "outputs": []
    },
    {
      "cell_type": "code",
      "source": [
        "final_merged_df[final_merged_df['study_id'] == 100206310].sort_values(['x','y'],ascending = True)"
      ],
      "metadata": {
        "execution": {
          "iopub.status.busy": "2024-06-13T05:05:35.462204Z",
          "iopub.execute_input": "2024-06-13T05:05:35.462582Z",
          "iopub.status.idle": "2024-06-13T05:05:35.490419Z",
          "shell.execute_reply.started": "2024-06-13T05:05:35.462543Z",
          "shell.execute_reply": "2024-06-13T05:05:35.489314Z"
        },
        "trusted": true,
        "id": "njc-n0dRGaxa"
      },
      "execution_count": null,
      "outputs": []
    },
    {
      "cell_type": "code",
      "source": [
        "final_merged_df[final_merged_df['series_id'] == 1012284084].sort_values(\"instance_number\")"
      ],
      "metadata": {
        "execution": {
          "iopub.status.busy": "2024-06-13T05:05:35.491903Z",
          "iopub.execute_input": "2024-06-13T05:05:35.492215Z",
          "iopub.status.idle": "2024-06-13T05:05:35.511699Z",
          "shell.execute_reply.started": "2024-06-13T05:05:35.492187Z",
          "shell.execute_reply": "2024-06-13T05:05:35.51049Z"
        },
        "trusted": true,
        "id": "1JHf0fMnGaxb"
      },
      "execution_count": null,
      "outputs": []
    },
    {
      "cell_type": "markdown",
      "source": [
        "Now, we can see what the data represents\n",
        "\n",
        "Series ID 1012284084 contains 60 images, and how each image maps to each level and condition"
      ],
      "metadata": {
        "id": "acnP6qX2Gaxb"
      }
    },
    {
      "cell_type": "code",
      "source": [
        "# Filter the dataframe for the given study_id and sort by instance_number\n",
        "filtered_df = final_merged_df[final_merged_df['study_id'] == 1013589491].sort_values(\"instance_number\")\n",
        "\n",
        "# Display the resulting dataframe\n",
        "filtered_df"
      ],
      "metadata": {
        "execution": {
          "iopub.status.busy": "2024-06-13T05:05:35.51319Z",
          "iopub.execute_input": "2024-06-13T05:05:35.51358Z",
          "iopub.status.idle": "2024-06-13T05:05:35.54089Z",
          "shell.execute_reply.started": "2024-06-13T05:05:35.513538Z",
          "shell.execute_reply": "2024-06-13T05:05:35.539786Z"
        },
        "trusted": true,
        "id": "tIpe-nueGaxb"
      },
      "execution_count": null,
      "outputs": []
    },
    {
      "cell_type": "code",
      "source": [
        "# Sort final_merged_df by study_id, series_id, and series_description\n",
        "sorted_final_merged_df = final_merged_df[final_merged_df['study_id'] == 1013589491].sort_values(by=['series_id', 'series_description', 'instance_number'])\n",
        "sorted_final_merged_df"
      ],
      "metadata": {
        "execution": {
          "iopub.status.busy": "2024-06-13T05:05:35.542412Z",
          "iopub.execute_input": "2024-06-13T05:05:35.542926Z",
          "iopub.status.idle": "2024-06-13T05:05:35.572427Z",
          "shell.execute_reply.started": "2024-06-13T05:05:35.542883Z",
          "shell.execute_reply": "2024-06-13T05:05:35.571334Z"
        },
        "trusted": true,
        "id": "TRDAnGnJGaxb"
      },
      "execution_count": null,
      "outputs": []
    },
    {
      "cell_type": "markdown",
      "source": [
        "We see that, <br>\n",
        "Saggital T1 images map to Neural Foraminal Narrowing <br>\n",
        "Axial T2 images map to Subarticular Stenosis <br>\n",
        "Saggital T2/STIR map to Canal Stenosis <br>"
      ],
      "metadata": {
        "id": "9tf4dqOdGaxb"
      }
    },
    {
      "cell_type": "code",
      "source": [
        "import pandas as pd\n",
        "\n",
        "# Create the row_id column\n",
        "final_merged_df['row_id'] = (\n",
        "    final_merged_df['study_id'].astype(str) + '_' +\n",
        "    final_merged_df['condition'].str.lower().str.replace(' ', '_') + '_' +\n",
        "    final_merged_df['level'].str.lower().str.replace('/', '_')\n",
        ")\n",
        "\n",
        "# Create the image_path column\n",
        "final_merged_df['image_path'] = (\n",
        "    f'{train_path}/train_images/' +\n",
        "    final_merged_df['study_id'].astype(str) + '/' +\n",
        "    final_merged_df['series_id'].astype(str) + '/' +\n",
        "    final_merged_df['instance_number'].astype(str) + '.dcm'\n",
        ")\n",
        "\n",
        "# Note: Check image path, since there's 1 instance id, for 1 image, but there's many more images other than the ones labelled in the instance ID.\n",
        "\n",
        "# Display the updated dataframe\n",
        "final_merged_df.head(5)"
      ],
      "metadata": {
        "execution": {
          "iopub.status.busy": "2024-06-13T05:05:35.574026Z",
          "iopub.execute_input": "2024-06-13T05:05:35.574359Z",
          "iopub.status.idle": "2024-06-13T05:05:35.888769Z",
          "shell.execute_reply.started": "2024-06-13T05:05:35.57433Z",
          "shell.execute_reply": "2024-06-13T05:05:35.887644Z"
        },
        "trusted": true,
        "id": "kE4IjExQGaxb"
      },
      "execution_count": null,
      "outputs": []
    },
    {
      "cell_type": "code",
      "source": [
        "final_merged_df[final_merged_df[\"severity\"] == \"Normal/Mild\"].value_counts().sum()"
      ],
      "metadata": {
        "execution": {
          "iopub.status.busy": "2024-06-13T05:05:35.890183Z",
          "iopub.execute_input": "2024-06-13T05:05:35.890677Z",
          "iopub.status.idle": "2024-06-13T05:05:36.074947Z",
          "shell.execute_reply.started": "2024-06-13T05:05:35.890641Z",
          "shell.execute_reply": "2024-06-13T05:05:36.073942Z"
        },
        "trusted": true,
        "id": "8SRauHubGaxb"
      },
      "execution_count": null,
      "outputs": []
    },
    {
      "cell_type": "code",
      "source": [
        "final_merged_df[final_merged_df[\"severity\"] == \"Moderate\"].value_counts().sum()"
      ],
      "metadata": {
        "execution": {
          "iopub.status.busy": "2024-06-13T05:05:36.076046Z",
          "iopub.execute_input": "2024-06-13T05:05:36.076345Z",
          "iopub.status.idle": "2024-06-13T05:05:36.154221Z",
          "shell.execute_reply.started": "2024-06-13T05:05:36.076319Z",
          "shell.execute_reply": "2024-06-13T05:05:36.153125Z"
        },
        "trusted": true,
        "id": "VYQiZeiiGaxb"
      },
      "execution_count": null,
      "outputs": []
    },
    {
      "cell_type": "code",
      "source": [
        "# Define the base path for test images\n",
        "base_path = '/kaggle/input/rsna-2024-lumbar-spine-degenerative-classification/test_images/'\n",
        "\n",
        "# Function to get image paths for a series\n",
        "def get_image_paths(row):\n",
        "    series_path = os.path.join(base_path, str(row['study_id']), str(row['series_id']))\n",
        "    if os.path.exists(series_path):\n",
        "        return [os.path.join(series_path, f) for f in os.listdir(series_path) if os.path.isfile(os.path.join(series_path, f))]\n",
        "    return []\n",
        "\n",
        "# Mapping of series_description to conditions\n",
        "condition_mapping = {\n",
        "    'Sagittal T1': {'left': 'left_neural_foraminal_narrowing', 'right': 'right_neural_foraminal_narrowing'},\n",
        "    'Axial T2': {'left': 'left_subarticular_stenosis', 'right': 'right_subarticular_stenosis'},\n",
        "    'Sagittal T2/STIR': 'spinal_canal_stenosis'\n",
        "}\n",
        "\n",
        "# Create a list to store the expanded rows\n",
        "expanded_rows = []\n",
        "\n",
        "# Expand the dataframe by adding new rows for each file path\n",
        "for index, row in test_desc.iterrows():\n",
        "    image_paths = get_image_paths(row)\n",
        "    conditions = condition_mapping.get(row['series_description'], {})\n",
        "    if isinstance(conditions, str):  # Single condition\n",
        "        conditions = {'left': conditions, 'right': conditions}\n",
        "    for side, condition in conditions.items():\n",
        "        for image_path in image_paths:\n",
        "            expanded_rows.append({\n",
        "                'study_id': row['study_id'],\n",
        "                'series_id': row['series_id'],\n",
        "                'series_description': row['series_description'],\n",
        "                'image_path': image_path,\n",
        "                'condition': condition,\n",
        "                'row_id': f\"{row['study_id']}_{condition}\"\n",
        "            })\n",
        "\n",
        "# Create a new dataframe from the expanded rows\n",
        "expanded_test_desc = pd.DataFrame(expanded_rows)\n",
        "\n",
        "# Display the resulting dataframe\n",
        "expanded_test_desc.head(5)"
      ],
      "metadata": {
        "execution": {
          "iopub.status.busy": "2024-06-13T05:05:36.155475Z",
          "iopub.execute_input": "2024-06-13T05:05:36.155809Z",
          "iopub.status.idle": "2024-06-13T05:05:36.251018Z",
          "shell.execute_reply.started": "2024-06-13T05:05:36.15578Z",
          "shell.execute_reply": "2024-06-13T05:05:36.249824Z"
        },
        "trusted": true,
        "id": "hCw73IeIGaxb"
      },
      "execution_count": null,
      "outputs": []
    },
    {
      "cell_type": "code",
      "source": [
        "# change severity column labels\n",
        "#Normal/Mild': 'normal_mild', 'Moderate': 'moderate', 'Severe': 'severe'}\n",
        "final_merged_df['severity'] = final_merged_df['severity'].map({'Normal/Mild': 'normal_mild', 'Moderate': 'moderate', 'Severe': 'severe'})"
      ],
      "metadata": {
        "execution": {
          "iopub.status.busy": "2024-06-13T05:05:36.252555Z",
          "iopub.execute_input": "2024-06-13T05:05:36.252998Z",
          "iopub.status.idle": "2024-06-13T05:05:36.270056Z",
          "shell.execute_reply.started": "2024-06-13T05:05:36.252943Z",
          "shell.execute_reply": "2024-06-13T05:05:36.268956Z"
        },
        "trusted": true,
        "id": "-ACPvI97Gaxb"
      },
      "execution_count": null,
      "outputs": []
    },
    {
      "cell_type": "code",
      "source": [
        "test_data = expanded_test_desc\n",
        "train_data = final_merged_df"
      ],
      "metadata": {
        "execution": {
          "iopub.status.busy": "2024-06-13T05:05:36.271311Z",
          "iopub.execute_input": "2024-06-13T05:05:36.271667Z",
          "iopub.status.idle": "2024-06-13T05:05:36.278805Z",
          "shell.execute_reply.started": "2024-06-13T05:05:36.271628Z",
          "shell.execute_reply": "2024-06-13T05:05:36.277652Z"
        },
        "trusted": true,
        "id": "VIxdm51OGaxb"
      },
      "execution_count": null,
      "outputs": []
    },
    {
      "cell_type": "code",
      "source": [
        "import os\n",
        "\n",
        "# Define a function to check if a path exists\n",
        "def check_exists(path):\n",
        "    return os.path.exists(path)\n",
        "\n",
        "# Define a function to check if a study ID directory exists\n",
        "def check_study_id(row):\n",
        "    study_id = row['study_id']\n",
        "    path = f'{train_path}/train_images/{study_id}'\n",
        "    return check_exists(path)\n",
        "\n",
        "# Define a function to check if a series ID directory exists\n",
        "def check_series_id(row):\n",
        "    study_id = row['study_id']\n",
        "    series_id = row['series_id']\n",
        "    path = f'{train_path}/train_images/{study_id}/{series_id}'\n",
        "    return check_exists(path)\n",
        "\n",
        "# Define a function to check if an image file exists\n",
        "def check_image_exists(row):\n",
        "    image_path = row['image_path']\n",
        "    return check_exists(image_path)\n",
        "\n",
        "# Apply the functions to the train_data dataframe\n",
        "train_data['study_id_exists'] = train_data.apply(check_study_id, axis=1)\n",
        "train_data['series_id_exists'] = train_data.apply(check_series_id, axis=1)\n",
        "train_data['image_exists'] = train_data.apply(check_image_exists, axis=1)\n",
        "\n",
        "# Filter train_data\n",
        "train_data = train_data[(train_data['study_id_exists']) & (train_data['series_id_exists']) & (train_data['image_exists'])]"
      ],
      "metadata": {
        "execution": {
          "iopub.status.busy": "2024-06-13T05:05:36.280611Z",
          "iopub.execute_input": "2024-06-13T05:05:36.281003Z",
          "iopub.status.idle": "2024-06-13T05:05:52.608309Z",
          "shell.execute_reply.started": "2024-06-13T05:05:36.280969Z",
          "shell.execute_reply": "2024-06-13T05:05:52.607217Z"
        },
        "trusted": true,
        "id": "5u8OgU_hGaxb"
      },
      "execution_count": null,
      "outputs": []
    },
    {
      "cell_type": "code",
      "source": [
        "train_data.head(3)"
      ],
      "metadata": {
        "execution": {
          "iopub.status.busy": "2024-06-13T05:05:52.609737Z",
          "iopub.execute_input": "2024-06-13T05:05:52.61014Z",
          "iopub.status.idle": "2024-06-13T05:05:52.630379Z",
          "shell.execute_reply.started": "2024-06-13T05:05:52.610104Z",
          "shell.execute_reply": "2024-06-13T05:05:52.62889Z"
        },
        "trusted": true,
        "id": "O9PoPRInGaxb"
      },
      "execution_count": null,
      "outputs": []
    },
    {
      "cell_type": "code",
      "source": [
        "def load_dicom(path):\n",
        "    dicom = pydicom.read_file(path)\n",
        "    data = dicom.pixel_array\n",
        "    data = data - np.min(data)\n",
        "    if np.max(data) != 0:\n",
        "        data = data / np.max(data)\n",
        "    data = (data * 255).astype(np.uint8)\n",
        "    return data"
      ],
      "metadata": {
        "execution": {
          "iopub.status.busy": "2024-06-13T05:05:52.63211Z",
          "iopub.execute_input": "2024-06-13T05:05:52.632454Z",
          "iopub.status.idle": "2024-06-13T05:05:52.640306Z",
          "shell.execute_reply.started": "2024-06-13T05:05:52.632424Z",
          "shell.execute_reply": "2024-06-13T05:05:52.639109Z"
        },
        "trusted": true,
        "id": "XsThCuvFGaxb"
      },
      "execution_count": null,
      "outputs": []
    },
    {
      "cell_type": "code",
      "source": [
        "# Load images randomly\n",
        "import random\n",
        "images = []\n",
        "row_ids = []\n",
        "selected_indices = random.sample(range(len(train_data)), 2)\n",
        "for i in selected_indices:\n",
        "    image = load_dicom(train_data['image_path'][i])\n",
        "    images.append(image)\n",
        "    row_ids.append(train_data['row_id'][i])\n",
        "\n",
        "# Plot images\n",
        "fig, ax = plt.subplots(1, 2, figsize=(8, 4))\n",
        "for i in range(2):\n",
        "    ax[i].imshow(images[i], cmap='gray')\n",
        "    ax[i].set_title(f'Row ID: {row_ids[i]}', fontsize=8)\n",
        "    ax[i].axis('off')\n",
        "plt.tight_layout()\n",
        "plt.show()"
      ],
      "metadata": {
        "execution": {
          "iopub.status.busy": "2024-06-13T05:05:52.641724Z",
          "iopub.execute_input": "2024-06-13T05:05:52.642062Z",
          "iopub.status.idle": "2024-06-13T05:05:53.135727Z",
          "shell.execute_reply.started": "2024-06-13T05:05:52.642015Z",
          "shell.execute_reply": "2024-06-13T05:05:53.13462Z"
        },
        "trusted": true,
        "id": "MeTvFdJnGaxb"
      },
      "execution_count": null,
      "outputs": []
    },
    {
      "cell_type": "markdown",
      "source": [
        "## Loading data"
      ],
      "metadata": {
        "id": "aJu0mV2BGaxb"
      }
    },
    {
      "cell_type": "code",
      "source": [
        "#for one hot encoding\n",
        "#train_data[['normal_mild', 'severe', 'moderate']] = train_data[['normal_mild', 'severe', 'moderate']].astype(int)"
      ],
      "metadata": {
        "execution": {
          "iopub.status.busy": "2024-06-13T05:05:53.136901Z",
          "iopub.execute_input": "2024-06-13T05:05:53.137216Z",
          "iopub.status.idle": "2024-06-13T05:05:53.141801Z",
          "shell.execute_reply.started": "2024-06-13T05:05:53.137187Z",
          "shell.execute_reply": "2024-06-13T05:05:53.140834Z"
        },
        "trusted": true,
        "id": "AowW_bP8Gaxb"
      },
      "execution_count": null,
      "outputs": []
    },
    {
      "cell_type": "code",
      "source": [
        "train_data"
      ],
      "metadata": {
        "execution": {
          "iopub.status.busy": "2024-06-13T05:05:53.143011Z",
          "iopub.execute_input": "2024-06-13T05:05:53.143321Z",
          "iopub.status.idle": "2024-06-13T05:05:53.174699Z",
          "shell.execute_reply.started": "2024-06-13T05:05:53.143285Z",
          "shell.execute_reply": "2024-06-13T05:05:53.173653Z"
        },
        "trusted": true,
        "id": "sP1nEoa1Gaxb"
      },
      "execution_count": null,
      "outputs": []
    },
    {
      "cell_type": "code",
      "source": [
        "train_data = train_data.dropna()"
      ],
      "metadata": {
        "execution": {
          "iopub.status.busy": "2024-06-13T05:05:53.176817Z",
          "iopub.execute_input": "2024-06-13T05:05:53.17793Z",
          "iopub.status.idle": "2024-06-13T05:05:53.227152Z",
          "shell.execute_reply.started": "2024-06-13T05:05:53.177886Z",
          "shell.execute_reply": "2024-06-13T05:05:53.22591Z"
        },
        "trusted": true,
        "id": "uSv4BWPaGaxc"
      },
      "execution_count": null,
      "outputs": []
    },
    {
      "cell_type": "code",
      "source": [
        "import pandas as pd\n",
        "from sklearn.model_selection import train_test_split\n",
        "from torch.utils.data import Dataset, DataLoader\n",
        "import torchvision.transforms as transforms\n",
        "import torch\n",
        "import torch.optim.lr_scheduler as lr_scheduler\n",
        "from tqdm import tqdm\n",
        "\n",
        "# Define a custom dataset class\n",
        "class CustomDataset(Dataset):\n",
        "    def __init__(self, dataframe, transform=None):\n",
        "        self.dataframe = dataframe\n",
        "        self.transform = transform\n",
        "\n",
        "    def __len__(self):\n",
        "        return len(self.dataframe)\n",
        "\n",
        "    def __getitem__(self, index):\n",
        "        image_path = self.dataframe['image_path'][index]\n",
        "        image = load_dicom(image_path)  # Define this function to load your DICOM images\n",
        "        label = self.dataframe['severity'][index]\n",
        "\n",
        "        if self.transform:\n",
        "            image = self.transform(image)\n",
        "\n",
        "        return image, label\n",
        "\n",
        "# Function to create datasets and dataloaders for each series description\n",
        "def create_datasets_and_loaders(df, series_description, transform, batch_size=8):\n",
        "    filtered_df = df[df['series_description'] == series_description]\n",
        "\n",
        "    train_df, val_df = train_test_split(filtered_df, test_size=0.2, random_state=42)\n",
        "    train_df = train_df.reset_index(drop=True)\n",
        "    val_df = val_df.reset_index(drop=True)\n",
        "\n",
        "    train_dataset = CustomDataset(train_df, transform)\n",
        "    val_dataset = CustomDataset(val_df, transform)\n",
        "\n",
        "    trainloader = DataLoader(train_dataset, batch_size=batch_size, shuffle=True)\n",
        "    valloader = DataLoader(val_dataset, batch_size=batch_size, shuffle=False)\n",
        "\n",
        "    return trainloader, valloader, len(train_df), len(val_df)\n",
        "\n",
        "# Define the transforms\n",
        "transform = transforms.Compose([\n",
        "    transforms.Lambda(lambda x: (x * 255).astype(np.uint8)),  # Convert back to uint8 for PIL\n",
        "    transforms.ToPILImage(),\n",
        "    transforms.Resize((224, 224)),\n",
        "    transforms.Grayscale(num_output_channels=3),\n",
        "    transforms.ToTensor(),\n",
        "])\n",
        "\n",
        "# Create dataloaders for each series description\n",
        "dataloaders = {}\n",
        "lengths = {}\n",
        "\n",
        "trainloader_t1, valloader_t1, len_train_t1, len_val_t1 = create_datasets_and_loaders(train_data, 'Sagittal T1', transform)\n",
        "trainloader_t2, valloader_t2, len_train_t2, len_val_t2 = create_datasets_and_loaders(train_data, 'Axial T2', transform)\n",
        "trainloader_t2stir, valloader_t2stir, len_train_t2stir, len_val_t2stir = create_datasets_and_loaders(train_data, 'Sagittal T2/STIR', transform)\n",
        "\n",
        "dataloaders['Sagittal T1'] = (trainloader_t1, valloader_t1)\n",
        "dataloaders['Axial T2'] = (trainloader_t2, valloader_t2)\n",
        "dataloaders['Sagittal T2/STIR'] = (trainloader_t2stir, valloader_t2stir)\n",
        "\n",
        "lengths['Sagittal T1'] = (len_train_t1, len_val_t1)\n",
        "lengths['Axial T2'] = (len_train_t2, len_val_t2)\n",
        "lengths['Sagittal T2/STIR'] = (len_train_t2stir, len_val_t2stir)\n",
        "\n",
        "# Dictionary mapping labels to indices\n",
        "label_map = {'Mild': 0, 'Moderate': 1, 'Severe': 2}"
      ],
      "metadata": {
        "execution": {
          "iopub.status.busy": "2024-06-13T05:05:53.228582Z",
          "iopub.execute_input": "2024-06-13T05:05:53.228951Z",
          "iopub.status.idle": "2024-06-13T05:05:54.879616Z",
          "shell.execute_reply.started": "2024-06-13T05:05:53.228921Z",
          "shell.execute_reply": "2024-06-13T05:05:54.878671Z"
        },
        "trusted": true,
        "id": "EWmkLrORGaxc"
      },
      "execution_count": null,
      "outputs": []
    },
    {
      "cell_type": "code",
      "source": [
        "import matplotlib.pyplot as plt\n",
        "\n",
        "# Function to visualize a batch of images\n",
        "def visualize_batch(dataloader):\n",
        "    images, labels = next(iter(dataloader))\n",
        "    fig, axes = plt.subplots(1, len(images), figsize=(20, 5))\n",
        "    for i, (img, lbl) in enumerate(zip(images, labels)):\n",
        "        ax = axes[i]\n",
        "        img = img.permute(1, 2, 0)  # Convert to HWC for visualization\n",
        "        ax.imshow(img)\n",
        "        ax.set_title(f\"Label: {lbl}\")\n",
        "        ax.axis('off')\n",
        "    plt.show()\n",
        "\n",
        "# Visualize samples from each dataloader\n",
        "print(\"Visualizing Sagittal T1 samples\")\n",
        "visualize_batch(trainloader_t1)\n",
        "print(\"Visualizing Axial T2 samples\")\n",
        "visualize_batch(trainloader_t2)\n",
        "print(\"Visualizing Sagittal T2/STIR samples\")\n",
        "visualize_batch(trainloader_t2stir)"
      ],
      "metadata": {
        "execution": {
          "iopub.status.busy": "2024-06-13T05:05:54.880919Z",
          "iopub.execute_input": "2024-06-13T05:05:54.881449Z",
          "iopub.status.idle": "2024-06-13T05:05:58.210102Z",
          "shell.execute_reply.started": "2024-06-13T05:05:54.881419Z",
          "shell.execute_reply": "2024-06-13T05:05:58.20889Z"
        },
        "trusted": true,
        "id": "cbCXf7dRGaxc"
      },
      "execution_count": null,
      "outputs": []
    },
    {
      "cell_type": "code",
      "source": [
        "import matplotlib.pyplot as plt\n",
        "\n",
        "image, label = next(iter(trainloader_t2))\n",
        "sample = image[1].permute(1, 2, 0)  #sample\n",
        "\n",
        "# Plot images\n",
        "plt.figsize=(8, 4)\n",
        "plt.imshow(images[0], cmap='gray')\n",
        "plt.title(label[0])\n",
        "plt.axis('off')\n",
        "plt.tight_layout()\n",
        "plt.show()"
      ],
      "metadata": {
        "execution": {
          "iopub.status.busy": "2024-06-13T05:05:58.211386Z",
          "iopub.execute_input": "2024-06-13T05:05:58.211692Z",
          "iopub.status.idle": "2024-06-13T05:05:58.591122Z",
          "shell.execute_reply.started": "2024-06-13T05:05:58.211665Z",
          "shell.execute_reply": "2024-06-13T05:05:58.589785Z"
        },
        "trusted": true,
        "id": "ahyZdWkjGaxc"
      },
      "execution_count": null,
      "outputs": []
    },
    {
      "cell_type": "markdown",
      "source": [
        "## Model"
      ],
      "metadata": {
        "id": "wl7bAE4ZGaxc"
      }
    },
    {
      "cell_type": "markdown",
      "source": [
        "ConvNext"
      ],
      "metadata": {
        "id": "EVS1YKaWGaxc"
      }
    },
    {
      "cell_type": "code",
      "source": [
        "import torch\n",
        "import torch.nn as nn\n",
        "import torchvision.models as models\n",
        "from torchvision import transforms\n",
        "from torch.utils.data import DataLoader\n",
        "from sklearn.model_selection import train_test_split\n",
        "import pandas as pd\n",
        "from tqdm import tqdm\n",
        "\n",
        "device = torch.device(\"cuda\" if torch.cuda.is_available() else \"cpu\")"
      ],
      "metadata": {
        "execution": {
          "iopub.status.busy": "2024-06-13T05:05:58.59269Z",
          "iopub.execute_input": "2024-06-13T05:05:58.593024Z",
          "iopub.status.idle": "2024-06-13T05:05:58.622817Z",
          "shell.execute_reply.started": "2024-06-13T05:05:58.592996Z",
          "shell.execute_reply": "2024-06-13T05:05:58.621475Z"
        },
        "trusted": true,
        "id": "69jBvsxJGaxd"
      },
      "execution_count": null,
      "outputs": []
    },
    {
      "cell_type": "code",
      "source": [
        "import torch\n",
        "import torch.nn as nn\n",
        "import torchvision.models as models\n",
        "\n",
        "class CustomEfficientNetV2(nn.Module):\n",
        "    def __init__(self, num_classes=3, pretrained_weights=None):\n",
        "        super(CustomEfficientNetV2, self).__init__()\n",
        "        self.model = models.efficientnet_v2_s(weights=None)\n",
        "        if pretrained_weights:\n",
        "            self.model.load_state_dict(torch.load(pretrained_weights))\n",
        "        num_ftrs = self.model.classifier[-1].in_features\n",
        "        self.model.classifier[-1] = nn.Linear(num_ftrs, num_classes)\n",
        "\n",
        "    def forward(self, x):\n",
        "        return self.model(x)\n",
        "\n",
        "    def unfreeze_model(self):\n",
        "        # Unfreeze the last 20 layers, keeping BatchNorm layers frozen\n",
        "        for layer in list(self.model.features.children())[-20:]:\n",
        "            if not isinstance(layer, nn.BatchNorm2d):\n",
        "                for param in layer.parameters():\n",
        "                    param.requires_grad = True\n",
        "\n",
        "        # Unfreeze the classifier\n",
        "        for param in self.model.classifier.parameters():\n",
        "            param.requires_grad = True\n",
        "\n",
        "device = torch.device(\"cuda\" if torch.cuda.is_available() else \"cpu\")\n",
        "# Path to the locally uploaded weights file\n",
        "weights_path = '/kaggle/input/efficientnetv2/pytorch/efficientnetv2s/1/efficientnet_v2_s-dd5fe13b.pth'\n",
        "\n",
        "# Initialize models\n",
        "sagittal_t1_model = CustomEfficientNetV2(num_classes=3, pretrained_weights=weights_path).to(device)\n",
        "axial_t2_model = CustomEfficientNetV2(num_classes=3, pretrained_weights=weights_path).to(device)\n",
        "sagittal_t2stir_model = CustomEfficientNetV2(num_classes=3, pretrained_weights=weights_path).to(device)\n",
        "\n",
        "# Optionally freeze initial layers\n",
        "for param in sagittal_t1_model.model.features.parameters():\n",
        "    param.requires_grad = False\n",
        "for param in axial_t2_model.model.features.parameters():\n",
        "    param.requires_grad = False\n",
        "for param in sagittal_t2stir_model.model.features.parameters():\n",
        "    param.requires_grad = False\n",
        "\n",
        "# Unfreeze the final fully connected layer\n",
        "for param in sagittal_t1_model.model.classifier.parameters():\n",
        "    param.requires_grad = True\n",
        "for param in axial_t2_model.model.classifier.parameters():\n",
        "    param.requires_grad = True\n",
        "for param in sagittal_t2stir_model.model.classifier.parameters():\n",
        "    param.requires_grad = True\n",
        "\n",
        "# Training parameters\n",
        "criterion = nn.CrossEntropyLoss()\n",
        "\n",
        "# Initialize separate optimizers for each model\n",
        "optimizer_sagittal_t1 = torch.optim.Adam(sagittal_t1_model.model.classifier.parameters(), lr=0.001)\n",
        "optimizer_axial_t2 = torch.optim.Adam(axial_t2_model.model.classifier.parameters(), lr=0.001)\n",
        "optimizer_sagittal_t2stir = torch.optim.Adam(sagittal_t2stir_model.model.classifier.parameters(), lr=0.001)\n",
        "\n",
        "# Store the models and optimizers in dictionaries for easy access\n",
        "models = {\n",
        "    'Sagittal T1': sagittal_t1_model,\n",
        "    'Axial T2': axial_t2_model,\n",
        "    'Sagittal T2/STIR': sagittal_t2stir_model,\n",
        "}\n",
        "optimizers = {\n",
        "    'Sagittal T1': optimizer_sagittal_t1,\n",
        "    'Axial T2': optimizer_axial_t2,\n",
        "    'Sagittal T2/STIR': optimizer_sagittal_t2stir,\n",
        "}"
      ],
      "metadata": {
        "execution": {
          "iopub.status.busy": "2024-06-13T05:05:58.624719Z",
          "iopub.execute_input": "2024-06-13T05:05:58.625151Z",
          "iopub.status.idle": "2024-06-13T05:06:01.937782Z",
          "shell.execute_reply.started": "2024-06-13T05:05:58.62511Z",
          "shell.execute_reply": "2024-06-13T05:06:01.93694Z"
        },
        "trusted": true,
        "id": "KMNT405GGaxd"
      },
      "execution_count": null,
      "outputs": []
    },
    {
      "cell_type": "code",
      "source": [
        "# Count trainable parameters\n",
        "trainable_params = sum(p.numel() for p in sagittal_t1_model.parameters() if p.requires_grad)\n",
        "print(f\"Number of parameters: {trainable_params}\")"
      ],
      "metadata": {
        "execution": {
          "iopub.status.busy": "2024-06-13T05:06:01.939009Z",
          "iopub.execute_input": "2024-06-13T05:06:01.939319Z",
          "iopub.status.idle": "2024-06-13T05:06:01.948125Z",
          "shell.execute_reply.started": "2024-06-13T05:06:01.939286Z",
          "shell.execute_reply": "2024-06-13T05:06:01.947092Z"
        },
        "trusted": true,
        "id": "ARCQY7QxGaxd"
      },
      "execution_count": null,
      "outputs": []
    },
    {
      "cell_type": "markdown",
      "source": [
        "## Training"
      ],
      "metadata": {
        "id": "ZDwMI_xpGaxd"
      }
    },
    {
      "cell_type": "code",
      "source": [
        "label_map = {'normal_mild': 0, 'moderate': 1, 'severe': 2}"
      ],
      "metadata": {
        "execution": {
          "iopub.status.busy": "2024-06-13T05:06:01.949461Z",
          "iopub.execute_input": "2024-06-13T05:06:01.949898Z",
          "iopub.status.idle": "2024-06-13T05:06:01.959242Z",
          "shell.execute_reply.started": "2024-06-13T05:06:01.94985Z",
          "shell.execute_reply": "2024-06-13T05:06:01.958304Z"
        },
        "trusted": true,
        "id": "QJk9UyY1Gaxd"
      },
      "execution_count": null,
      "outputs": []
    },
    {
      "cell_type": "code",
      "source": [
        "for images, labels in trainloader_t2:\n",
        "    labels = torch.tensor([label_map[label] for label in labels])\n",
        "    labels = labels.to(device)\n",
        "    print(labels)\n",
        "    break"
      ],
      "metadata": {
        "execution": {
          "iopub.status.busy": "2024-06-13T05:06:01.960425Z",
          "iopub.execute_input": "2024-06-13T05:06:01.960815Z",
          "iopub.status.idle": "2024-06-13T05:06:02.169384Z",
          "shell.execute_reply.started": "2024-06-13T05:06:01.960781Z",
          "shell.execute_reply": "2024-06-13T05:06:02.168011Z"
        },
        "trusted": true,
        "id": "jP8UjscVGaxd"
      },
      "execution_count": null,
      "outputs": []
    },
    {
      "cell_type": "code",
      "source": [
        "import torch.optim.lr_scheduler as lr_scheduler\n",
        "from copy import deepcopy\n",
        "\n",
        "def train_model(model, trainloader, valloader, len_train, len_val, optimizer, num_epochs=10, patience=3):\n",
        "    # Learning rate scheduler\n",
        "    scheduler = lr_scheduler.StepLR(optimizer, step_size=2, gamma=0.1)\n",
        "\n",
        "    best_val_acc = 0.0\n",
        "    best_model_wts = deepcopy(model.state_dict())\n",
        "    counter = 0\n",
        "\n",
        "    for epoch in range(num_epochs):\n",
        "        model.train()\n",
        "        train_loss = 0\n",
        "        correct_train = 0\n",
        "\n",
        "        with tqdm(trainloader, unit=\"batch\") as tepoch:\n",
        "            for images, labels in tepoch:\n",
        "                images, labels = images.to(device), torch.tensor([label_map[label] for label in labels]).to(device)\n",
        "                optimizer.zero_grad()\n",
        "                outputs = model(images)\n",
        "                loss = criterion(outputs, labels)\n",
        "                loss.backward()\n",
        "                optimizer.step()\n",
        "                train_loss += loss.item()\n",
        "\n",
        "                probabilities = torch.softmax(outputs, dim=1)\n",
        "                _, predicted = torch.max(probabilities, 1)\n",
        "                correct_train += (predicted == labels).sum().item()\n",
        "\n",
        "                tepoch.set_postfix(epoch=epoch+1)\n",
        "\n",
        "        scheduler.step()\n",
        "\n",
        "        train_loss /= len(trainloader)\n",
        "        train_acc = 100 * correct_train / len_train\n",
        "\n",
        "        model.eval()\n",
        "        val_loss, correct_val = 0, 0\n",
        "        with torch.no_grad():\n",
        "            with tqdm(valloader, unit=\"batch\") as vepoch:\n",
        "                for images, labels in vepoch:\n",
        "                    images, labels = images.to(device), torch.tensor([label_map[label] for label in labels]).to(device)\n",
        "                    outputs = model(images)\n",
        "                    loss = criterion(outputs, labels)\n",
        "                    val_loss += loss.item()\n",
        "\n",
        "                    probabilities = torch.softmax(outputs, dim=1).squeeze(0)\n",
        "                    _, predicted = torch.max(probabilities, 1)\n",
        "                    correct_val += (predicted == labels).sum().item()\n",
        "\n",
        "                    vepoch.set_postfix(epoch=epoch+1)\n",
        "\n",
        "        val_loss /= len(valloader)\n",
        "        val_acc = 100 * correct_val / len_val\n",
        "\n",
        "        print(f\"Epoch {epoch+1}, Train Loss: {train_loss:.4f}, Train Acc: {train_acc:.2f}%, Val Loss: {val_loss:.4f}, Val Acc: {val_acc:.2f}%\")\n",
        "\n",
        "        # Save the best model and check for early stopping\n",
        "        if val_acc > best_val_acc:\n",
        "            best_val_acc = val_acc\n",
        "            best_model_wts = deepcopy(model.state_dict())\n",
        "            counter = 0\n",
        "            torch.save(best_model_wts, f'best_model_{epoch+1}.pth')\n",
        "        else:\n",
        "            counter += 1\n",
        "\n",
        "        # Early stopping\n",
        "        if counter >= patience:\n",
        "            print(f\"Early stopping triggered after {epoch+1} epochs\")\n",
        "            break\n",
        "\n",
        "    # Load best model weights\n",
        "    model.load_state_dict(best_model_wts)\n",
        "    return model, best_val_acc"
      ],
      "metadata": {
        "execution": {
          "iopub.status.busy": "2024-06-13T05:06:02.171109Z",
          "iopub.execute_input": "2024-06-13T05:06:02.171487Z",
          "iopub.status.idle": "2024-06-13T05:06:02.18963Z",
          "shell.execute_reply.started": "2024-06-13T05:06:02.171456Z",
          "shell.execute_reply": "2024-06-13T05:06:02.188397Z"
        },
        "trusted": true,
        "id": "77UbPoIIGaxd"
      },
      "execution_count": null,
      "outputs": []
    },
    {
      "cell_type": "code",
      "source": [
        "# Training all models\n",
        "for desc, model in models.items():\n",
        "    if desc == 'Sagittal T1':\n",
        "        trainloader, valloader, len_train, len_val = trainloader_t1, valloader_t1, len_train_t1, len_val_t1\n",
        "    elif desc == 'Axial T2':\n",
        "        trainloader, valloader, len_train, len_val = trainloader_t2, valloader_t2, len_train_t2, len_val_t2\n",
        "    elif desc == 'Sagittal T2/STIR':\n",
        "        trainloader, valloader, len_train, len_val = trainloader_t2stir, valloader_t2stir, len_train_t2stir, len_val_t2stir\n",
        "\n",
        "    print(f\"Training model for {desc}\")\n",
        "    train_model(model, trainloader, valloader, len_train, len_val, optimizers[desc])"
      ],
      "metadata": {
        "execution": {
          "iopub.status.busy": "2024-06-13T05:06:02.198783Z",
          "iopub.execute_input": "2024-06-13T05:06:02.1991Z",
          "iopub.status.idle": "2024-06-13T05:08:44.879121Z",
          "shell.execute_reply.started": "2024-06-13T05:06:02.199074Z",
          "shell.execute_reply": "2024-06-13T05:08:44.877353Z"
        },
        "trusted": true,
        "id": "bsJiERPJGaxf"
      },
      "execution_count": null,
      "outputs": []
    },
    {
      "cell_type": "markdown",
      "source": [
        "## Inference"
      ],
      "metadata": {
        "id": "FKGPXaH_Gaxf"
      }
    },
    {
      "cell_type": "code",
      "source": [
        "train_data['level'].unique()"
      ],
      "metadata": {
        "execution": {
          "iopub.status.busy": "2024-06-13T05:08:44.884555Z",
          "iopub.status.idle": "2024-06-13T05:08:44.884951Z",
          "shell.execute_reply.started": "2024-06-13T05:08:44.884769Z",
          "shell.execute_reply": "2024-06-13T05:08:44.884786Z"
        },
        "trusted": true,
        "id": "SJasNTFRGaxf"
      },
      "execution_count": null,
      "outputs": []
    },
    {
      "cell_type": "code",
      "source": [
        "expanded_test_desc.head(5)"
      ],
      "metadata": {
        "execution": {
          "iopub.status.busy": "2024-06-13T05:08:44.88598Z",
          "iopub.status.idle": "2024-06-13T05:08:44.886357Z",
          "shell.execute_reply.started": "2024-06-13T05:08:44.886165Z",
          "shell.execute_reply": "2024-06-13T05:08:44.886181Z"
        },
        "trusted": true,
        "id": "CjurxprYGaxf"
      },
      "execution_count": null,
      "outputs": []
    },
    {
      "cell_type": "code",
      "source": [
        "levels = ['l1_l2', 'l2_l3', 'l3_l4', 'l4_l5', 'l5_s1']\n",
        "\n",
        "# Function to update row_id with levels\n",
        "def update_row_id(row, levels):\n",
        "    level = levels[row.name % len(levels)]\n",
        "    return f\"{row['study_id']}_{row['condition']}_{level}\"\n",
        "\n",
        "# Update row_id in expanded_test_desc to include levels\n",
        "expanded_test_desc['row_id'] = expanded_test_desc.apply(lambda row: update_row_id(row, levels), axis=1)"
      ],
      "metadata": {
        "execution": {
          "iopub.status.busy": "2024-06-13T05:08:44.888489Z",
          "iopub.status.idle": "2024-06-13T05:08:44.888956Z",
          "shell.execute_reply.started": "2024-06-13T05:08:44.88873Z",
          "shell.execute_reply": "2024-06-13T05:08:44.888747Z"
        },
        "trusted": true,
        "id": "Xy7b40JlGaxf"
      },
      "execution_count": null,
      "outputs": []
    },
    {
      "cell_type": "code",
      "source": [
        "expanded_test_desc.head(2)"
      ],
      "metadata": {
        "execution": {
          "iopub.status.busy": "2024-06-13T05:08:44.890959Z",
          "iopub.status.idle": "2024-06-13T05:08:44.891432Z",
          "shell.execute_reply.started": "2024-06-13T05:08:44.891234Z",
          "shell.execute_reply": "2024-06-13T05:08:44.891251Z"
        },
        "trusted": true,
        "id": "dIrp7ACdGaxf"
      },
      "execution_count": null,
      "outputs": []
    },
    {
      "cell_type": "code",
      "source": [
        "# Define a custom test dataset class\n",
        "class TestDataset(Dataset):\n",
        "    def __init__(self, dataframe, transform=None):\n",
        "        self.dataframe = dataframe\n",
        "        self.transform = transform\n",
        "\n",
        "    def __len__(self):\n",
        "        return len(self.dataframe)\n",
        "\n",
        "    def __getitem__(self, index):\n",
        "        image_path = self.dataframe['image_path'][index]\n",
        "        image = load_dicom(image_path)  # Define this function to load your DICOM images\n",
        "        if self.transform:\n",
        "            image = self.transform(image)\n",
        "        return image\n",
        "\n",
        "# Define the transforms\n",
        "transform = transforms.Compose([\n",
        "    transforms.ToPILImage(),\n",
        "    transforms.Resize((224, 224)),\n",
        "    transforms.Grayscale(num_output_channels=3),\n",
        "    transforms.ToTensor(),\n",
        "])\n",
        "\n",
        "# Create a test dataset and dataloader\n",
        "test_dataset = TestDataset(expanded_test_desc, transform)\n",
        "testloader = DataLoader(test_dataset, batch_size=1, shuffle=False)"
      ],
      "metadata": {
        "execution": {
          "iopub.status.busy": "2024-06-13T05:08:44.893151Z",
          "iopub.status.idle": "2024-06-13T05:08:44.893539Z",
          "shell.execute_reply.started": "2024-06-13T05:08:44.893352Z",
          "shell.execute_reply": "2024-06-13T05:08:44.893368Z"
        },
        "trusted": true,
        "id": "souAWc_dGaxf"
      },
      "execution_count": null,
      "outputs": []
    },
    {
      "cell_type": "code",
      "source": [
        "for image in testloader:\n",
        "    print(image.shape)\n",
        "    break"
      ],
      "metadata": {
        "execution": {
          "iopub.status.busy": "2024-06-13T05:08:44.894744Z",
          "iopub.status.idle": "2024-06-13T05:08:44.895118Z",
          "shell.execute_reply.started": "2024-06-13T05:08:44.894947Z",
          "shell.execute_reply": "2024-06-13T05:08:44.894962Z"
        },
        "trusted": true,
        "id": "WnTfPAYgGaxg"
      },
      "execution_count": null,
      "outputs": []
    },
    {
      "cell_type": "code",
      "source": [
        "# Function to get the model based on series_description\n",
        "def get_model(series_description):\n",
        "    return models.get(series_description, None)\n",
        "\n",
        "# Function to make predictions on the test data\n",
        "def predict_test_data(testloader, expanded_test_desc):\n",
        "    predictions = []\n",
        "    normal_mild_probs = []\n",
        "    moderate_probs = []\n",
        "    severe_probs = []\n",
        "\n",
        "    for model in models.values():\n",
        "        model.eval()\n",
        "\n",
        "    with torch.no_grad():\n",
        "        for idx, images in enumerate(tqdm(testloader)):\n",
        "            images = images.to(device)\n",
        "            series_description = expanded_test_desc.iloc[idx]['series_description']\n",
        "            model = get_model(series_description)\n",
        "            if model:\n",
        "                model.eval()  # Set the model to eval mode\n",
        "                outputs = model(images)\n",
        "                probs = torch.softmax(outputs, dim=1).squeeze(0)\n",
        "                normal_mild_probs.append(probs[0].item())\n",
        "                moderate_probs.append(probs[1].item())\n",
        "                severe_probs.append(probs[2].item())\n",
        "                predictions.append(probs)\n",
        "            else:\n",
        "                normal_mild_probs.append(None)\n",
        "                moderate_probs.append(None)\n",
        "                severe_probs.append(None)\n",
        "                predictions.append(None)\n",
        "    return normal_mild_probs, moderate_probs, severe_probs, predictions"
      ],
      "metadata": {
        "execution": {
          "iopub.status.busy": "2024-06-13T05:08:44.896301Z",
          "iopub.status.idle": "2024-06-13T05:08:44.896709Z",
          "shell.execute_reply.started": "2024-06-13T05:08:44.89649Z",
          "shell.execute_reply": "2024-06-13T05:08:44.896506Z"
        },
        "trusted": true,
        "id": "xRWUUi1YGaxg"
      },
      "execution_count": null,
      "outputs": []
    },
    {
      "cell_type": "code",
      "source": [
        "# Make predictions on the test data\n",
        "normal_mild_probs, moderate_probs, severe_probs, test_predictions = predict_test_data(testloader, expanded_test_desc)"
      ],
      "metadata": {
        "execution": {
          "iopub.status.busy": "2024-06-13T05:08:44.898444Z",
          "iopub.status.idle": "2024-06-13T05:08:44.898838Z",
          "shell.execute_reply.started": "2024-06-13T05:08:44.898651Z",
          "shell.execute_reply": "2024-06-13T05:08:44.898667Z"
        },
        "trusted": true,
        "id": "DFl_9DFXGaxg"
      },
      "execution_count": null,
      "outputs": []
    },
    {
      "cell_type": "code",
      "source": [
        "test_predictions[0]"
      ],
      "metadata": {
        "execution": {
          "iopub.status.busy": "2024-06-13T05:08:44.900747Z",
          "iopub.status.idle": "2024-06-13T05:08:44.901128Z",
          "shell.execute_reply.started": "2024-06-13T05:08:44.900936Z",
          "shell.execute_reply": "2024-06-13T05:08:44.900952Z"
        },
        "trusted": true,
        "id": "53L8uT60Gaxg"
      },
      "execution_count": null,
      "outputs": []
    },
    {
      "cell_type": "code",
      "source": [
        "# Add predictions and probabilities to the test DataFrame\n",
        "expanded_test_desc['normal_mild'] = normal_mild_probs\n",
        "expanded_test_desc['moderate'] = moderate_probs\n",
        "expanded_test_desc['severe'] = severe_probs"
      ],
      "metadata": {
        "execution": {
          "iopub.status.busy": "2024-06-13T05:08:44.90324Z",
          "iopub.status.idle": "2024-06-13T05:08:44.903652Z",
          "shell.execute_reply.started": "2024-06-13T05:08:44.903447Z",
          "shell.execute_reply": "2024-06-13T05:08:44.903462Z"
        },
        "trusted": true,
        "id": "vu9rWNm8Gaxg"
      },
      "execution_count": null,
      "outputs": []
    },
    {
      "cell_type": "code",
      "source": [
        "submission = expanded_test_desc[[\"row_id\",\"normal_mild\",\"moderate\",\"severe\"]]"
      ],
      "metadata": {
        "execution": {
          "iopub.status.busy": "2024-06-13T05:08:44.905228Z",
          "iopub.status.idle": "2024-06-13T05:08:44.905627Z",
          "shell.execute_reply.started": "2024-06-13T05:08:44.905416Z",
          "shell.execute_reply": "2024-06-13T05:08:44.90543Z"
        },
        "trusted": true,
        "id": "2iqvtHmVGaxg"
      },
      "execution_count": null,
      "outputs": []
    },
    {
      "cell_type": "code",
      "source": [
        "submission.head(10)"
      ],
      "metadata": {
        "execution": {
          "iopub.status.busy": "2024-06-13T05:08:44.906765Z",
          "iopub.status.idle": "2024-06-13T05:08:44.907174Z",
          "shell.execute_reply.started": "2024-06-13T05:08:44.906966Z",
          "shell.execute_reply": "2024-06-13T05:08:44.906982Z"
        },
        "trusted": true,
        "id": "GmnU5bDzGaxg"
      },
      "execution_count": null,
      "outputs": []
    },
    {
      "cell_type": "code",
      "source": [
        "# Group by 'row_id' and sum the values\n",
        "grouped_submission = submission.groupby('row_id').max().reset_index()\n",
        "\n",
        "# Normalize the columns\n",
        "#grouped_submission[['normal_mild', 'moderate', 'severe']] = grouped_submission[['normal_mild', 'moderate', 'severe']].div(grouped_submission[['normal_mild', 'moderate', 'severe']].sum(axis=1), axis=0)\n",
        "\n",
        "# Check the first 3 rows\n",
        "grouped_submission"
      ],
      "metadata": {
        "execution": {
          "iopub.status.busy": "2024-06-13T05:08:44.908737Z",
          "iopub.status.idle": "2024-06-13T05:08:44.909139Z",
          "shell.execute_reply.started": "2024-06-13T05:08:44.908931Z",
          "shell.execute_reply": "2024-06-13T05:08:44.908946Z"
        },
        "trusted": true,
        "id": "ucqLuJ_XGaxg"
      },
      "execution_count": null,
      "outputs": []
    },
    {
      "cell_type": "code",
      "source": [
        "len(grouped_submission)"
      ],
      "metadata": {
        "execution": {
          "iopub.status.busy": "2024-06-13T05:08:44.911017Z",
          "iopub.status.idle": "2024-06-13T05:08:44.911408Z",
          "shell.execute_reply.started": "2024-06-13T05:08:44.911222Z",
          "shell.execute_reply": "2024-06-13T05:08:44.911238Z"
        },
        "trusted": true,
        "id": "jH-sLAoKGaxg"
      },
      "execution_count": null,
      "outputs": []
    },
    {
      "cell_type": "code",
      "source": [
        "sub[['normal_mild', 'moderate', 'severe']] = grouped_submission[['normal_mild', 'moderate', 'severe']]"
      ],
      "metadata": {
        "execution": {
          "iopub.status.busy": "2024-06-13T05:08:44.91225Z",
          "iopub.status.idle": "2024-06-13T05:08:44.912683Z",
          "shell.execute_reply.started": "2024-06-13T05:08:44.912435Z",
          "shell.execute_reply": "2024-06-13T05:08:44.912451Z"
        },
        "trusted": true,
        "id": "1o-sttF-Gaxg"
      },
      "execution_count": null,
      "outputs": []
    },
    {
      "cell_type": "code",
      "source": [
        "import os\n",
        "\n",
        "# Save the DataFrame to \"submission.csv\" in the desired directory\n",
        "sub.to_csv(\"/kaggle/working/submission.csv\", index=False)"
      ],
      "metadata": {
        "execution": {
          "iopub.status.busy": "2024-06-13T05:08:44.914478Z",
          "iopub.status.idle": "2024-06-13T05:08:44.914892Z",
          "shell.execute_reply.started": "2024-06-13T05:08:44.914705Z",
          "shell.execute_reply": "2024-06-13T05:08:44.914722Z"
        },
        "trusted": true,
        "id": "8o6acqjOGaxg"
      },
      "execution_count": null,
      "outputs": []
    },
    {
      "cell_type": "code",
      "source": [
        "sub.head(5)"
      ],
      "metadata": {
        "execution": {
          "iopub.status.busy": "2024-06-13T05:08:44.916305Z",
          "iopub.status.idle": "2024-06-13T05:08:44.916688Z",
          "shell.execute_reply.started": "2024-06-13T05:08:44.916481Z",
          "shell.execute_reply": "2024-06-13T05:08:44.916497Z"
        },
        "trusted": true,
        "id": "GxLBVhQ1Gaxg"
      },
      "execution_count": null,
      "outputs": []
    },
    {
      "cell_type": "code",
      "source": [],
      "metadata": {
        "id": "Ku-dmh_nGaxg"
      },
      "execution_count": null,
      "outputs": []
    },
    {
      "cell_type": "code",
      "source": [],
      "metadata": {
        "id": "ZUtiAa0SGaxg"
      },
      "execution_count": null,
      "outputs": []
    }
  ]
}